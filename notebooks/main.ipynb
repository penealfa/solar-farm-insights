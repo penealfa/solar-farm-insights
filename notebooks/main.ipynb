{
 "cells": [
  {
   "cell_type": "code",
   "execution_count": 1,
   "metadata": {},
   "outputs": [],
   "source": [
    "import sys\n",
    "import os\n",
    "sys.path.append(os.path.abspath(os.path.join('..')))"
   ]
  },
  {
   "cell_type": "code",
   "execution_count": 2,
   "metadata": {},
   "outputs": [],
   "source": [
    "from src.data_processors import merge_data"
   ]
  },
  {
   "cell_type": "code",
   "execution_count": null,
   "metadata": {},
   "outputs": [],
   "source": [
    "files = {\n",
    "    'benin-malanville.csv': 'Benin',\n",
    "    'sierraleone-bumbuna.csv': 'Sierra Leone',\n",
    "    'togo-dapaong_qc.csv': 'Togo'\n",
    "}\n",
    "output_filename = 'merged_data.csv'\n",
    "preprocessed_data = merge_data(files, country_map=files, output_filename=output_filename)\n",
    "print(\"Preprocessed Data Preview:\")\n",
    "print(preprocessed_data.head(10))  # "
   ]
  },
  {
   "cell_type": "code",
   "execution_count": null,
   "metadata": {},
   "outputs": [
    {
     "name": "stdout",
     "output_type": "stream",
     "text": [
      "Summary Statistics for Numeric Columns:\n",
      "               GHI         DNI         DHI        ModA        ModB       Tamb  \\\n",
      "mean    221.537789  180.590233   94.628240  235.513909  228.199654  26.765702   \n",
      "median   -0.600000    0.000000    0.000000    1.300000    1.300000  26.100000   \n",
      "std     314.338262  277.236287  131.825492  330.623517  320.919930   4.921241   \n",
      "\n",
      "               RH        WS    WSgust   WSstdev          WD   WDstdev  \\\n",
      "mean    62.979502  1.621943  2.235159  0.425861  130.184410  7.995044   \n",
      "median  69.500000  1.500000  2.100000  0.400000   99.500000  7.700000   \n",
      "std     29.053431  1.399913  1.778756  0.270173  103.124477  6.843443   \n",
      "\n",
      "                BP  Cleaning  Precipitation      TModA      TModB  \n",
      "mean    990.087884  0.000636       0.001431  32.964510  32.667936  \n",
      "median  995.000000  0.000000       0.000000  26.500000  26.300000  \n",
      "std      10.472954  0.025210       0.032328  13.720122  13.169336  \n"
     ]
    }
   ],
   "source": [
    "numeric_columns = preprocessed_data.select_dtypes(include=['int64', 'float64']).dropna(axis=1, how='all').columns\n",
    "summary_stats = preprocessed_data[numeric_columns].agg(['mean', 'median', 'std'])\n",
    "print(\"Summary Statistics for Numeric Columns:\")\n",
    "print(summary_stats)"
   ]
  }
 ],
 "metadata": {
  "kernelspec": {
   "display_name": "Python 3",
   "language": "python",
   "name": "python3"
  },
  "language_info": {
   "codemirror_mode": {
    "name": "ipython",
    "version": 3
   },
   "file_extension": ".py",
   "mimetype": "text/x-python",
   "name": "python",
   "nbconvert_exporter": "python",
   "pygments_lexer": "ipython3",
   "version": "3.12.1"
  }
 },
 "nbformat": 4,
 "nbformat_minor": 2
}
